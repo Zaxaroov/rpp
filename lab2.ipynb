{
 "cells": [
  {
   "cell_type": "code",
   "execution_count": 1,
   "metadata": {},
   "outputs": [
    {
     "name": "stdout",
     "output_type": "stream",
     "text": [
      "Наименьшее число:  12\n"
     ]
    }
   ],
   "source": [
    "# Задание 1\n",
    "a = int(input(\"Введите первое число: \"))\n",
    "b = int(input(\"Введите второе число: \"))\n",
    "c = int(input(\"Введите третье число: \"))\n",
    "# Задание 1.1\n",
    "min_num = min(a, b, c)\n",
    "print(\"Наименьшее число: \", min_num)"
   ]
  },
  {
   "cell_type": "code",
   "execution_count": 2,
   "metadata": {},
   "outputs": [
    {
     "name": "stdout",
     "output_type": "stream",
     "text": [
      "Задание 2: \n",
      "12\n",
      "26\n"
     ]
    }
   ],
   "source": [
    "# Задание 1.2\n",
    "print(\"Задание 2: \")\n",
    "if 1 <= a <= 50:\n",
    "    print(a)\n",
    "if 1 <= b <= 50:\n",
    "    print(b)\n",
    "if 1 <= c <= 50:\n",
    "    print(c)"
   ]
  },
  {
   "cell_type": "code",
   "execution_count": 3,
   "metadata": {},
   "outputs": [
    {
     "name": "stdout",
     "output_type": "stream",
     "text": [
      "12.0\n",
      "24.0\n",
      "36.0\n",
      "48.0\n",
      "60.0\n",
      "72.0\n",
      "84.0\n",
      "96.0\n",
      "108.0\n",
      "120.0\n"
     ]
    }
   ],
   "source": [
    "# Задание 1.3\n",
    "m = float(input(\"Введите число: \"))\n",
    "\n",
    "for i in range(1, 11):\n",
    "    result = i*m\n",
    "    print(result)"
   ]
  },
  {
   "cell_type": "code",
   "execution_count": 4,
   "metadata": {},
   "outputs": [
    {
     "name": "stdout",
     "output_type": "stream",
     "text": [
      "Введите последовательность целых чисел:\n",
      "Сумма всех чисел: 261\n",
      "Количество всех чисел: 7\n"
     ]
    }
   ],
   "source": [
    "# Инициализация переменных\n",
    "sum = 0  \n",
    "count = 0      \n",
    "\n",
    "print(\"Введите последовательность целых чисел:\")\n",
    "\n",
    "while True:\n",
    "    user_input = input(\"Введите число: \")\n",
    "    \n",
    "    if user_input == \"\":\n",
    "        break\n",
    "    \n",
    "    # Преобразуем ввод в целое число\n",
    "    try:\n",
    "        number = int(user_input)\n",
    "    except ValueError:\n",
    "        print(\"Ошибка: введите целое число.\")\n",
    "        continue  \n",
    "    \n",
    "    # Обновляем сумму и количество чисел\n",
    "    sum += number\n",
    "    count += 1\n",
    "\n",
    "# Выводим результаты\n",
    "print(f\"Сумма всех чисел: {sum}\")\n",
    "print(f\"Количество всех чисел: {count}\")"
   ]
  },
  {
   "cell_type": "code",
   "execution_count": 8,
   "metadata": {},
   "outputs": [
    {
     "name": "stdout",
     "output_type": "stream",
     "text": [
      "Результат: уакерноьтимсв\n"
     ]
    }
   ],
   "source": [
    "# Считываем строку с клавиатуры\n",
    "input_string = input(\"Введите произвольную строку: \")\n",
    "\n",
    "\n",
    "lowercase_string = input_string.lower()\n",
    "\n",
    "\n",
    "print(\"Результат:\", lowercase_string)\n"
   ]
  },
  {
   "cell_type": "code",
   "execution_count": 12,
   "metadata": {},
   "outputs": [
    {
     "name": "stdout",
     "output_type": "stream",
     "text": [
      "Введите элементы массива через пробел:\n",
      "Пары отрицательных чисел, стоящих рядом:\n",
      "(-2, -3)\n",
      "(-5, -5)\n",
      "(-8, -8)\n",
      "Массив после удаления повторяющихся чисел: [1, -2, -3, 4, -5, 6, 7, -8]\n"
     ]
    }
   ],
   "source": [
    "# 1. Считываем одномерный массив из консоли\n",
    "print(\"Введите элементы массива через пробел:\")\n",
    "input_string = input()  # Считываем строку с числами\n",
    "\n",
    "# Преобразуем введённую строку в список целых чисел\n",
    "try:\n",
    "    array = list(map(int, input_string.split()))\n",
    "except ValueError:\n",
    "    print(\"Ошибка: введены некорректные данные. Убедитесь, что ввод состоит из целых чисел.\")\n",
    "    exit(1)\n",
    "\n",
    "# 2. Выводим пары отрицательных чисел, стоящих рядом\n",
    "print(\"Пары отрицательных чисел, стоящих рядом:\")\n",
    "for i in range(len(array) - 1):\n",
    "    if array[i] < 0 and array[i + 1] < 0:\n",
    "        print(f\"({array[i]}, {array[i + 1]})\")\n",
    "\n",
    "# 3. Удаляем все одинаковые повторяющиеся числа\n",
    "unique_array = list(dict.fromkeys(array))  # Используем словарь для удаления дубликатов\n",
    "\n",
    "# 4. Выводим полученный массив\n",
    "print(\"Массив после удаления повторяющихся чисел:\", unique_array)"
   ]
  }
 ],
 "metadata": {
  "kernelspec": {
   "display_name": "Python 3.10.10 64-bit",
   "language": "python",
   "name": "python3"
  },
  "language_info": {
   "codemirror_mode": {
    "name": "ipython",
    "version": 3
   },
   "file_extension": ".py",
   "mimetype": "text/x-python",
   "name": "python",
   "nbconvert_exporter": "python",
   "pygments_lexer": "ipython3",
   "version": "3.10.10"
  },
  "orig_nbformat": 4,
  "vscode": {
   "interpreter": {
    "hash": "d3e10ef16274dd72e574b8fa73b58450b957d8421a2901baded3cca26fcf5dda"
   }
  }
 },
 "nbformat": 4,
 "nbformat_minor": 2
}
